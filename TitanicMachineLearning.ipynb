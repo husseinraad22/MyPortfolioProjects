{
 "cells": [
  {
   "cell_type": "code",
   "execution_count": 12,
   "id": "d443c697-ed89-4e73-8f8f-c3c1754c1797",
   "metadata": {},
   "outputs": [
    {
     "name": "stdout",
     "output_type": "stream",
     "text": [
      "Accuracy: 0.7988826815642458\n"
     ]
    }
   ],
   "source": []
  },
  {
   "cell_type": "code",
   "execution_count": 15,
   "id": "0e212b2c-100f-43a2-b759-e4b9f9f5b7b1",
   "metadata": {},
   "outputs": [
    {
     "name": "stdout",
     "output_type": "stream",
     "text": [
      "Accuracy: 0.7988826815642458\n"
     ]
    }
   ],
   "source": [
    "import pandas as pd\n",
    "from sklearn.model_selection import train_test_split\n",
    "from sklearn.ensemble import RandomForestClassifier, GradientBoostingClassifier\n",
    "from sklearn.metrics import accuracy_score\n",
    "from sklearn.preprocessing import LabelEncoder\n",
    "\n",
    "# Load the training data\n",
    "train_data = pd.read_csv('train.csv')\n",
    "\n",
    "# Drop unnecessary columns and fill missing values\n",
    "train_data.drop(['Name', 'Ticket', 'Cabin', 'Embarked'], axis=1, inplace=True)\n",
    "train_data['Age'].fillna(train_data['Age'].median(), inplace=True)\n",
    "train_data['Fare'].fillna(train_data['Fare'].median(), inplace=True)\n",
    "\n",
    "# Convert 'Sex' column to numerical values\n",
    "label_encoder = LabelEncoder()\n",
    "train_data['Sex'] = label_encoder.fit_transform(train_data['Sex'])\n",
    "\n",
    "# Create additional features\n",
    "train_data['FamilySize'] = train_data['SibSp'] + train_data['Parch'] + 1\n",
    "train_data['IsAlone'] = 1\n",
    "train_data.loc[train_data['FamilySize'] > 1, 'IsAlone'] = 0\n",
    "train_data['AgeGroup'] = pd.cut(train_data['Age'], bins=[0, 18, 35, 50, 100], labels=[1, 2, 3, 4])\n",
    "\n",
    "# Convert categorical features to one-hot encoding\n",
    "train_data = pd.get_dummies(train_data, columns=['Pclass', 'Sex', 'AgeGroup'], drop_first=True)\n",
    "\n",
    "# Split the data into features and target\n",
    "X = train_data.drop('Survived', axis=1)\n",
    "y = train_data['Survived']\n",
    "\n",
    "# Train-test split\n",
    "X_train, X_test, y_train, y_test = train_test_split(X, y, test_size=0.2, random_state=42)\n",
    "\n",
    "# Train an ensemble of Random Forest and Gradient Boosting Classifiers\n",
    "rf_model = RandomForestClassifier(n_estimators=300, max_depth=10, min_samples_split=8, min_samples_leaf=2, random_state=42)\n",
    "gb_model = GradientBoostingClassifier(n_estimators=200, max_depth=4, learning_rate=0.1, random_state=42)\n",
    "rf_model.fit(X_train, y_train)\n",
    "gb_model.fit(X_train, y_train)\n",
    "\n",
    "# Predict on test data\n",
    "rf_pred = rf_model.predict(X_test)\n",
    "gb_pred = gb_model.predict(X_test)\n",
    "\n",
    "# Ensemble predictions using majority voting\n",
    "y_pred = []\n",
    "for i in range(len(X_test)):\n",
    "    votes = rf_pred[i] + gb_pred[i]\n",
    "    y_pred.append(1 if votes > 1 else 0)\n",
    "\n",
    "# Calculate accuracy\n",
    "accuracy = accuracy_score(y_test, y_pred)\n",
    "print(f'Accuracy: {accuracy}')\n"
   ]
  },
  {
   "cell_type": "code",
   "execution_count": null,
   "id": "dc71eb6f-c6e4-4b5b-b6b8-f875fa23709c",
   "metadata": {},
   "outputs": [],
   "source": []
  }
 ],
 "metadata": {
  "kernelspec": {
   "display_name": "anaconda-2022.05-py39",
   "language": "python",
   "name": "conda-env-anaconda-2022.05-py39-py"
  },
  "language_info": {
   "codemirror_mode": {
    "name": "ipython",
    "version": 3
   },
   "file_extension": ".py",
   "mimetype": "text/x-python",
   "name": "python",
   "nbconvert_exporter": "python",
   "pygments_lexer": "ipython3",
   "version": "3.9.12"
  }
 },
 "nbformat": 4,
 "nbformat_minor": 5
}
